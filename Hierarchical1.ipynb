{
 "cells": [
  {
   "cell_type": "code",
   "execution_count": 1,
   "id": "a60c4ea7-973e-4e4c-a2d2-1616a15c61f7",
   "metadata": {
    "tags": []
   },
   "outputs": [],
   "source": [
    "import numpy as np\n",
    "import seaborn as sns\n",
    "import matplotlib.pyplot as plt\n",
    "from astropy.cosmology import Planck15 as cosmo\n",
    "import astropy.units as aus\n",
    "from astropy.cosmology import z_at_value\n",
    "import functions_ecc as func\n",
    "import functions_LISA_ecc as func_LISA\n",
    "import corner\n",
    "import multiprocessing as mp\n",
    "import emcee\n",
    "from multiprocessing import Pool\n",
    "from matplotlib import ticker\n",
    "from scipy import integrate\n",
    "from scipy.stats import kstest\n",
    "import gc\n",
    "\n",
    "GG         = 6.67408e-11\n",
    "m_earth    = 5.965e24\n",
    "m_sun      = 1.9891e30\n",
    "mpc        = 1e6*3.084e16\n",
    "cc         = 2.998e8\n",
    "R0         = 1e8 # the radius of TianQin satellites\n",
    "m_sun_in_s = m_sun*GG/cc**3 # the unit is sec\n",
    "mpc_in_s   = mpc/cc # the unit is sec\n",
    "f0         = 1.0/(2*np.pi)*np.sqrt(GG*m_earth/R0**3) # the frequency of TianQin satellites motion\n",
    "f_star     = 0.28 # the limit of low frequency of TianQin\n",
    "tt_1yr     = 365*24*3600.0 # 1 year\n",
    "tto        = 5.0*tt_1yr # 5 years\n",
    "tto_unit   = tt_1yr/4.0 # 1/4 year, 3 months \n",
    "R_1AU      = 1.495978707e11\n",
    "gamma_E    = 0.577\n",
    "#difference parameters for FIM\n",
    "del_zz=0.1\n",
    "del_ttcr=10**(-3)\n",
    "del_theta_s_bar=10**(-4)\n",
    "del_phi_s_bar=10**(-4)\n",
    "del_incl=10**(-4)\n",
    "f0_red33=0.01\n",
    "del_ln_mcr = 1e-8\n",
    "del_ln_eta = 1e-3    #for TianQin\n",
    "del_ln_eta = 1e-4    #for LISA\n",
    "del_zz     = 1e-3     # del_zz = 1e-5\n",
    "del_ttcr   = 1e-3\n",
    "del_theta_s_bar = 1e-4\n",
    "del_phi_s_bar   = 1e-4\n",
    "del_ln_ee0      = 1e-5"
   ]
  },
  {
   "cell_type": "code",
   "execution_count": 409,
   "id": "beeef467-a88c-4222-859c-829924a194de",
   "metadata": {
    "tags": []
   },
   "outputs": [],
   "source": [
    "#read sources parameters\n",
    "redshift = []\n",
    "mass1r = []\n",
    "mass2r = []\n",
    "tc = []\n",
    "theta_s_bar = []\n",
    "phi_s_bar = []\n",
    "theta_l_bar = []\n",
    "phi_l_bar = []\n",
    "\n",
    "for line in open(\"catalogs/catalog22.txt\"):\n",
    "    parameters = line.split()\n",
    "    redshift.append(float(parameters[0]))\n",
    "    mass1r.append(float(parameters[1]))\n",
    "    mass2r.append(float(parameters[2]))\n",
    "    tc.append(float(parameters[3]))\n",
    "    theta_s_bar.append(float(parameters[4]))\n",
    "    phi_s_bar.append(float(parameters[5]))\n",
    "    theta_l_bar.append(float(parameters[6]))\n",
    "    phi_l_bar.append(float(parameters[7]))\n",
    "    \n",
    "#get e0 using\n",
    "mu = -2.775\n",
    "sigma = 0.699\n",
    "log_e0 = np.random.normal(mu,sigma,len(mass1r))\n",
    "\n",
    "e0 = []\n",
    "for i in log_e0:\n",
    "    e0.append(10**i)\n",
    "#get delta_e0 using FIM\n",
    "de_e0_ratio = []\n",
    "for kk in range(len(mass1r)):\n",
    "    Sigma_3, Del_Omega_bar, Sigma_0, Sigma_1, Sigma_2, Del_V, Sigma_6, Sigma_7 = func.parameters_estimate_TQ_LISA(mass1r[kk], mass2r[kk], del_ln_mcr, del_ln_eta, redshift[kk], del_zz, tc[kk], del_ttcr, theta_s_bar[kk], del_theta_s_bar, phi_s_bar[kk], del_phi_s_bar, theta_l_bar[kk], phi_l_bar[kk], del_incl, f0_red33, e0[kk], del_ln_ee0)\n",
    "    de_e0_ratio.append(Sigma_7)\n",
    "    \n",
    "de_e0 = []\n",
    "for i in range(len(de_e0_ratio)):\n",
    "    de_e0.append(de_e0_ratio[i]*e0[i])\n",
    "\n",
    "np.savetxt(\"e0.csv\",e0,delimiter=',')\n",
    "np.savetxt(\"FIM_e0.csv\",de_e0,delimiter=\",\")"
   ]
  },
  {
   "cell_type": "code",
   "execution_count": 410,
   "id": "3fddd717-a036-49ff-b62d-fe5e1a0585ef",
   "metadata": {
    "tags": []
   },
   "outputs": [
    {
     "data": {
      "image/png": "[encoded data removed]",
      "text/plain": [
       "<Figure size 640x480 with 1 Axes>"
      ]
     },
     "metadata": {},
     "output_type": "display_data"
    }
   ],
   "source": [
    "#e0\n",
    "de_e0 = np.loadtxt('FIM_e0.csv',delimiter=',')\n",
    "e0 = np.loadtxt('e0.csv',delimiter=',')\n",
    "de_e0 = de_e0.tolist()\n",
    "e0 = e0.tolist()\n",
    "\n",
    "e0_sort = []\n",
    "de_e0_sort = []\n",
    "for ii in np.argsort(e0):\n",
    "    e0_sort.append(e0[ii])\n",
    "    de_e0_sort.append(de_e0[ii])\n",
    "'''t = 0\n",
    "index = []\n",
    "for ii in range(len(log_e0)):\n",
    "    if de_log_e0[ii]>10:\n",
    "        index.append(ii)\n",
    "        t = t+1\n",
    "print(t)\n",
    "index.reverse()\n",
    "for ii in index:\n",
    "    de_log_e0.pop(ii)\n",
    "    log_e0.pop(ii)\n",
    "  \n",
    "t = 0\n",
    "index = []\n",
    "for ii in range(len(log_e0)):\n",
    "    if log_e0[ii]>-2 or log_e0[ii]<-3:\n",
    "        index.append(ii)\n",
    "        t = t+1\n",
    "print(t)\n",
    "index.reverse()\n",
    "for ii in index:\n",
    "    de_log_e0.pop(ii)\n",
    "    log_e0.pop(ii)\n",
    "'''\n",
    "x = np.arange(1,len(e0)+1,1).astype(dtype=str)\n",
    "plt.errorbar(x,e0_sort,yerr=de_e0_sort,marker='s',ms=2,linestyle='none',ecolor='black',elinewidth=0.5,capsize=2,capthick=0.5)\n",
    "plt.yscale('log')\n",
    "plt.ylabel('$loge_0$',size=16)\n",
    "plt.xlabel('Index',size=16)\n",
    "plt.savefig('errorbar.png')"
   ]
  },
  {
   "cell_type": "code",
   "execution_count": 30,
   "id": "4ad308a6-d6ac-4303-b13a-515de6b3a59f",
   "metadata": {},
   "outputs": [],
   "source": [
    "index = []\n",
    "for i in range(len(e0)):\n",
    "    new_e0 = np.random.normal(e0[i],de_e0[i])\n",
    "    if new_e0<=0:\n",
    "        index.append(i)\n",
    "    else:\n",
    "        e0[i] = new_e0\n",
    "index.reverse()\n",
    "for i in index:\n",
    "    e0.pop(i)\n",
    "    de_e0.pop(i)\n",
    "    mass1r.pop(i)\n",
    "    mass2r.pop(i)\n",
    "    redshift.pop(i)\n",
    "    tc.pop(i)\n",
    "    theta_s_bar.pop(i)\n",
    "    phi_s_bar.pop(i)\n",
    "    theta_l_bar.pop(i)\n",
    "    phi_l_bar.pop(i) \n",
    "\n",
    "de_e0_ratio = []            \n",
    "for kk in range(len(mass1r)):\n",
    "    Sigma_3, Del_Omega_bar, Sigma_0, Sigma_1, Sigma_2, Del_V, Sigma_6, Sigma_7 = func.parameters_estimate(mass1r[kk], mass2r[kk], del_ln_mcr, del_ln_eta, redshift[kk], del_zz, tc[kk], del_ttcr, theta_s_bar[kk], del_theta_s_bar, phi_s_bar[kk], del_phi_s_bar, theta_l_bar[kk], phi_l_bar[kk], del_incl, f0_red33, e0[kk], del_ln_ee0)\n",
    "    de_e0_ratio.append(Sigma_7)\n",
    "    \n",
    "de_e0 = []\n",
    "for i in range(len(de_e0_ratio)):\n",
    "    de_e0.append(de_e0_ratio[i]*e0[i])\n",
    "    \n",
    "    \n",
    "np.savetxt(\"e0.csv\",e0,delimiter=',')\n",
    "np.savetxt(\"FIM_e0.csv\",de_e0,delimiter=\",\")"
   ]
  },
  {
   "cell_type": "code",
   "execution_count": 2,
   "id": "20db6940-b1c9-4918-a543-615e0d6b1d92",
   "metadata": {
    "tags": []
   },
   "outputs": [],
   "source": [
    "#log_e0\n",
    "#read sources parameters\n",
    "redshift = []\n",
    "mass1r = []\n",
    "mass2r = []\n",
    "tc = []\n",
    "theta_s_bar = []\n",
    "phi_s_bar = []\n",
    "theta_l_bar = []\n",
    "phi_l_bar = []\n",
    "\n",
    "for line in open(\"catalogs/catalog22.txt\"):\n",
    "    parameters = line.split()\n",
    "    redshift.append(float(parameters[0]))\n",
    "    mass1r.append(float(parameters[1]))\n",
    "    mass2r.append(float(parameters[2]))\n",
    "    tc.append(float(parameters[3]))\n",
    "    theta_s_bar.append(float(parameters[4]))\n",
    "    phi_s_bar.append(float(parameters[5]))\n",
    "    theta_l_bar.append(float(parameters[6]))\n",
    "    phi_l_bar.append(float(parameters[7]))"
   ]
  },
  {
   "cell_type": "code",
   "execution_count": 53,
   "id": "8b40c9ac-c477-461a-9974-087fa567f130",
   "metadata": {
    "tags": []
   },
   "outputs": [],
   "source": [
    "#log_e0\n",
    "#read sources parameters\n",
    "redshift = []\n",
    "mass1r = []\n",
    "mass2r = []\n",
    "tc = []\n",
    "theta_s_bar = []\n",
    "phi_s_bar = []\n",
    "theta_l_bar = []\n",
    "phi_l_bar = []\n",
    "\n",
    "for line in open(\"catalogs/catalog22.txt\"):\n",
    "    parameters = line.split()\n",
    "    redshift.append(float(parameters[0]))\n",
    "    mass1r.append(float(parameters[1]))\n",
    "    mass2r.append(float(parameters[2]))\n",
    "    tc.append(float(parameters[3]))\n",
    "    theta_s_bar.append(float(parameters[4]))\n",
    "    phi_s_bar.append(float(parameters[5]))\n",
    "    theta_l_bar.append(float(parameters[6]))\n",
    "    phi_l_bar.append(float(parameters[7]))\n",
    "\n",
    "#get e0 using\n",
    "mu = -2.775\n",
    "sigma = 0.699\n",
    "log_e0 = np.random.normal(mu,sigma,len(mass1r))\n",
    "log_e0 = log_e0.tolist()\n",
    "\n",
    "e0 = []\n",
    "for i in log_e0:\n",
    "    e0.append(10**i)\n",
    "\n",
    "#get delta_e0 using FIM\n",
    "de_e0_ratio = []\n",
    "for kk in range(len(mass1r)):\n",
    "    Sigma_3, Del_Omega_bar, Sigma_0, Sigma_1, Sigma_2, Del_V, Sigma_6, Sigma_7 = func.parameters_estimate(mass1r[kk], mass2r[kk], del_ln_mcr, del_ln_eta, redshift[kk], del_zz, tc[kk], del_ttcr, theta_s_bar[kk], del_theta_s_bar, phi_s_bar[kk], del_phi_s_bar, theta_l_bar[kk], phi_l_bar[kk], del_incl, f0_red33, e0[kk], del_ln_ee0)\n",
    "    de_e0_ratio.append(Sigma_7)\n",
    "    \n",
    "de_log_e0 = []\n",
    "for i in range(len(de_e0_ratio)):\n",
    "    de_log_e0.append(de_e0_ratio[i]/np.log(10))\n",
    "\n",
    "\n",
    "np.savetxt(\"log_e0.csv\",log_e0,delimiter=',')\n",
    "np.savetxt(\"FIM_e0.csv\",de_log_e0,delimiter=\",\")"
   ]
  },
  {
   "cell_type": "code",
   "execution_count": 86,
   "id": "8d296577-1b5e-4348-8958-28dd601edb23",
   "metadata": {
    "tags": []
   },
   "outputs": [
    {
     "name": "stdout",
     "output_type": "stream",
     "text": [
      "1\n"
     ]
    }
   ],
   "source": [
    "#log_e0\n",
    "t = 0\n",
    "index = []\n",
    "for ii in range(len(log_e0)):\n",
    "    if log_e0[ii]-2*de_log_e0[ii]<-5:\n",
    "        index.append(ii)\n",
    "        t = t+1\n",
    "print(t)\n",
    "index.reverse()\n",
    "\n",
    "list = np.arange(len(log_e0)).tolist()\n",
    "for i in index:\n",
    "    list.pop(i)\n",
    "\n",
    "for i in list:\n",
    "    while True:\n",
    "        new_log_e0 = np.random.normal(log_e0[i],de_log_e0[i])\n",
    "        if -5<=new_log_e0<0:\n",
    "            log_e0[i] = new_log_e0\n",
    "            break\n",
    "            \n",
    "for i in index:\n",
    "    while True:\n",
    "        new_log_e0 = np.random.normal(log_e0[i],de_log_e0[i])\n",
    "        if -5<=new_log_e0<min(2*log_e0[i]+5,0):\n",
    "            log_e0[i] = new_log_e0\n",
    "            break\n",
    "            \n",
    "e0 = []\n",
    "for i in log_e0:\n",
    "    e0.append(10**i)\n",
    "\n",
    "#get delta_e0 using FIM\n",
    "de_e0_ratio = []\n",
    "for kk in range(len(mass1r)):\n",
    "    Sigma_3, Del_Omega_bar, Sigma_0, Sigma_1, Sigma_2, Del_V, Sigma_6, Sigma_7 = func.parameters_estimate_TQ_LISA(mass1r[kk], mass2r[kk], del_ln_mcr, del_ln_eta, redshift[kk], del_zz, tc[kk], del_ttcr, theta_s_bar[kk], del_theta_s_bar, phi_s_bar[kk], del_phi_s_bar, theta_l_bar[kk], phi_l_bar[kk], del_incl, f0_red33, e0[kk], del_ln_ee0)\n",
    "    de_e0_ratio.append(Sigma_7)\n",
    "    \n",
    "de_log_e0 = []\n",
    "for i in range(len(de_e0_ratio)):\n",
    "    de_log_e0.append(de_e0_ratio[i]/np.log(10))\n",
    "\n",
    "\n",
    "np.savetxt(\"log_e0.csv\",log_e0,delimiter=',')\n",
    "np.savetxt(\"FIM_e0.csv\",de_log_e0,delimiter=\",\")"
   ]
  },
  {
   "cell_type": "code",
   "execution_count": 15,
   "id": "87677156-83c7-41eb-96be-094587cbd914",
   "metadata": {
    "tags": []
   },
   "outputs": [
    {
     "name": "stdout",
     "output_type": "stream",
     "text": [
      "0\n"
     ]
    }
   ],
   "source": [
    "#log_e0\n",
    "t = 0\n",
    "index = []\n",
    "for ii in range(len(log_e0)):\n",
    "    if de_log_e0[ii]>10:\n",
    "        index.append(ii)\n",
    "        t = t+1\n",
    "print(t)\n",
    "index.reverse()\n",
    "for ii in index:\n",
    "    de_log_e0.pop(ii)\n",
    "    log_e0.pop(ii)\n",
    "    mass1r.pop(ii)\n",
    "    mass2r.pop(ii)\n",
    "    redshift.pop(ii)\n",
    "    tc.pop(ii)\n",
    "    theta_s_bar.pop(ii)\n",
    "    phi_s_bar.pop(ii)\n",
    "    theta_l_bar.pop(ii)\n",
    "    phi_l_bar.pop(ii)\n",
    "    \n",
    "np.savetxt(\"log_e0.csv\",log_e0,delimiter=',')\n",
    "np.savetxt(\"FIM_e0.csv\",de_log_e0,delimiter=\",\")"
   ]
  },
  {
   "cell_type": "code",
   "execution_count": 4,
   "id": "8a172ceb-cea9-41d4-8e4a-239d5227c59f",
   "metadata": {
    "tags": []
   },
   "outputs": [
    {
     "data": {
      "image/png": "[encoded data removed]",
      "text/plain": [
       "<Figure size 640x480 with 1 Axes>"
      ]
     },
     "metadata": {},
     "output_type": "display_data"
    }
   ],
   "source": [
    "#e0\n",
    "de_e0 = np.loadtxt('FIM_e0.csv',delimiter=',')\n",
    "e0 = np.loadtxt('e0.csv',delimiter=',')\n",
    "de_e0 = de_e0.tolist()\n",
    "e0 = e0.tolist()\n",
    "\n",
    "x = np.arange(0,0.02,1e-3)\n",
    "plt.scatter(e0,de_e0,s=2)\n",
    "#plt.plot(x,x,linestyle='--',c='grey')\n",
    "plt.xlabel('$log e_0$',size=16)\n",
    "plt.ylabel('$\\Delta log e$',size=16)\n",
    "plt.xscale('log')\n",
    "plt.yscale('log')\n",
    "#plt.xlim(0,0.0025)\n",
    "#plt.ylim(0,0.0025)\n",
    "#axes = plt.gca()\n",
    "#axes.set_aspect(aspect=1)\n",
    "plt.savefig('1.png')"
   ]
  },
  {
   "cell_type": "code",
   "execution_count": 87,
   "id": "98e53738-e507-4f1b-a4ba-a9e535bbd3f7",
   "metadata": {
    "tags": []
   },
   "outputs": [
    {
     "data": {
      "image/png": "[encoded data removed]",
      "text/plain": [
       "<Figure size 640x480 with 1 Axes>"
      ]
     },
     "metadata": {},
     "output_type": "display_data"
    }
   ],
   "source": [
    "#log_e0\n",
    "de_log_e0 = np.loadtxt('FIM_e0.csv',delimiter=',')\n",
    "log_e0 = np.loadtxt('log_e0.csv',delimiter=',')\n",
    "de_log_e0 = de_log_e0.tolist()\n",
    "log_e0 = log_e0.tolist()\n",
    "\n",
    "x = np.arange(-5,0,1e-3)\n",
    "plt.scatter(log_e0,de_log_e0,s=2)\n",
    "plt.plot(x,-x,linestyle='--',c='grey')\n",
    "plt.xlabel('$log e_0$',size=16)\n",
    "plt.ylabel('$\\Delta log e$',size=16)\n",
    "#plt.xscale('log')\n",
    "#plt.yscale('log')\n",
    "#plt.xlim(1e-8,1)\n",
    "#plt.ylim(0,20)\n",
    "#axes = plt.gca()\n",
    "#axes.set_aspect(aspect=1)\n",
    "plt.savefig('1.png')"
   ]
  },
  {
   "cell_type": "code",
   "execution_count": 88,
   "id": "45f14317-9c49-48ff-a681-7b620befa30d",
   "metadata": {
    "tags": []
   },
   "outputs": [
    {
     "data": {
      "image/png": "[encoded data removed]",
      "text/plain": [
       "<Figure size 640x480 with 1 Axes>"
      ]
     },
     "metadata": {},
     "output_type": "display_data"
    }
   ],
   "source": [
    "#log_e0\n",
    "de_log_e0 = np.loadtxt('FIM_e0.csv',delimiter=',')\n",
    "log_e0 = np.loadtxt('log_e0.csv',delimiter=',')\n",
    "de_log_e0 = de_log_e0.tolist()\n",
    "log_e0 = log_e0.tolist()\n",
    "\n",
    "log_e0_sort = []\n",
    "de_log_e0_sort = []\n",
    "for ii in np.argsort(log_e0):\n",
    "    log_e0_sort.append(log_e0[ii])\n",
    "    de_log_e0_sort.append(de_log_e0[ii])\n",
    "'''t = 0\n",
    "index = []\n",
    "for ii in range(len(log_e0)):\n",
    "    if de_log_e0[ii]>10:\n",
    "        index.append(ii)\n",
    "        t = t+1\n",
    "print(t)\n",
    "index.reverse()\n",
    "for ii in index:\n",
    "    de_log_e0.pop(ii)\n",
    "    log_e0.pop(ii)\n",
    "  \n",
    "t = 0\n",
    "index = []\n",
    "for ii in range(len(log_e0)):\n",
    "    if log_e0[ii]>-2 or log_e0[ii]<-3:\n",
    "        index.append(ii)\n",
    "        t = t+1\n",
    "print(t)\n",
    "index.reverse()\n",
    "for ii in index:\n",
    "    de_log_e0.pop(ii)\n",
    "    log_e0.pop(ii)\n",
    "'''\n",
    "x = np.arange(1,len(log_e0)+1,1).astype(dtype=str)\n",
    "plt.errorbar(x,log_e0_sort,yerr=de_log_e0_sort,marker='s',ms=2,linestyle='none',ecolor='black',elinewidth=0.5,capsize=2,capthick=0.5)\n",
    "plt.ylabel('$loge_0$',size=16)\n",
    "plt.xlabel('Index',size=16)\n",
    "plt.savefig('errorbar.png')"
   ]
  },
  {
   "cell_type": "code",
   "execution_count": 121,
   "id": "64b58839-0cda-47fb-adfe-ed4f32a8e170",
   "metadata": {},
   "outputs": [
    {
     "name": "stdout",
     "output_type": "stream",
     "text": [
      "31\n"
     ]
    }
   ],
   "source": [
    "#log_e0\n",
    "t = 0\n",
    "for ii in range(len(log_e0)):\n",
    "    if de_log_e0[ii]>5:\n",
    "        t = t+1\n",
    "print(t)"
   ]
  },
  {
   "cell_type": "code",
   "execution_count": 115,
   "id": "32958113-4ea5-4390-9907-c2f5d13861ba",
   "metadata": {},
   "outputs": [
    {
     "name": "stdout",
     "output_type": "stream",
     "text": [
      "34\n"
     ]
    }
   ],
   "source": [
    "#log_e0\n",
    "t = 0\n",
    "for ii in range(len(log_e0)):\n",
    "    if de_log_e0[ii]>=-log_e0[ii]:\n",
    "        t = t+1\n",
    "print(t)"
   ]
  },
  {
   "cell_type": "code",
   "execution_count": 84,
   "id": "dd83c53e-3cb2-4d43-ab5e-193e8e8061de",
   "metadata": {},
   "outputs": [
    {
     "name": "stdout",
     "output_type": "stream",
     "text": [
      "22\n"
     ]
    }
   ],
   "source": [
    "#log_e0\n",
    "t = 0\n",
    "index = []\n",
    "for ii in range(len(e0)):\n",
    "    if de_log_e0[ii]>=-log_e0[ii]:\n",
    "        index.append(ii)\n",
    "        t = t+1\n",
    "print(t)\n",
    "index.reverse()\n",
    "for ii in index:\n",
    "    de_log_e0.pop(ii)\n",
    "    log_e0.pop(ii)"
   ]
  },
  {
   "cell_type": "code",
   "execution_count": 10,
   "id": "55c420c5-fe88-48fc-b2b0-bb2bd72b0271",
   "metadata": {},
   "outputs": [
    {
     "data": {
      "image/png": "[encoded data removed]",
      "text/plain": [
       "<Figure size 640x480 with 1 Axes>"
      ]
     },
     "metadata": {},
     "output_type": "display_data"
    }
   ],
   "source": [
    "de_e0 = np.loadtxt('FIM_e0.csv',delimiter=',')\n",
    "e0 = np.loadtxt('log_e0.csv',delimiter=',')\n",
    "de_e0 = de_e0.tolist()\n",
    "e0 = e0.tolist()\n",
    "x = np.arange(1e-8,1,1e-3)\n",
    "plt.scatter(e0,de_e0,s=2)\n",
    "plt.plot(x,x,linestyle='--',c='grey')\n",
    "plt.xlabel('$e_0$')\n",
    "plt.ylabel('$\\Delta e$')\n",
    "plt.xscale('log')\n",
    "plt.yscale('log')\n",
    "plt.xlim(1e-8,1)\n",
    "plt.ylim(1e-8,1)\n",
    "axes = plt.gca()\n",
    "axes.set_aspect(aspect=1)\n",
    "plt.savefig('1.png')"
   ]
  },
  {
   "cell_type": "code",
   "execution_count": 339,
   "id": "a4d7aa51-6492-4ab6-a5f7-d6ca34776bd5",
   "metadata": {},
   "outputs": [
    {
     "name": "stdout",
     "output_type": "stream",
     "text": [
      "12\n"
     ]
    }
   ],
   "source": [
    "t = 0\n",
    "index = []\n",
    "for ii in range(len(e0)):\n",
    "    if de_e0[ii]>=e0[ii]:\n",
    "        index.append(ii)\n",
    "        t = t+1\n",
    "print(t)\n",
    "index.reverse()\n",
    "for ii in index:\n",
    "    de_e0.pop(ii)\n",
    "    e0.pop(ii)"
   ]
  },
  {
   "cell_type": "code",
   "execution_count": 31,
   "id": "c76575b8-24b0-42ea-9102-87f0652b540a",
   "metadata": {},
   "outputs": [
    {
     "name": "stdout",
     "output_type": "stream",
     "text": [
      "12\n"
     ]
    }
   ],
   "source": [
    "t = 0\n",
    "for ii in range(len(e0)):\n",
    "    if de_e0[ii]>=e0[ii]:\n",
    "        t = t+1\n",
    "print(t)"
   ]
  },
  {
   "cell_type": "code",
   "execution_count": 98,
   "id": "c7488ba4-a5ee-4b0f-a457-9f58648d6c7b",
   "metadata": {},
   "outputs": [],
   "source": [
    "for ii in range(len(e0)):\n",
    "    if de_e0[ii]>=e0[ii]:\n",
    "        de_e0[ii] = e0[ii]/10"
   ]
  },
  {
   "cell_type": "code",
   "execution_count": 411,
   "id": "e43802c9-49ef-44da-8640-fa977bb25faa",
   "metadata": {
    "tags": []
   },
   "outputs": [],
   "source": [
    "#e0\n",
    "for i in range(len(de_e0)):\n",
    "    a = []\n",
    "    j = 0\n",
    "    while j<3000:\n",
    "        b = np.random.normal(e0[i],de_e0[i])\n",
    "        if b>0:\n",
    "            a.append(b)\n",
    "            j = j+1\n",
    "    np.savetxt(\"samples/%s.csv\" % str(i),a,delimiter=\",\")"
   ]
  },
  {
   "cell_type": "code",
   "execution_count": 2,
   "id": "a5e28afb-10ba-46a9-8fbd-282417fc035d",
   "metadata": {
    "tags": []
   },
   "outputs": [],
   "source": [
    "de_log_e0 = np.loadtxt('FIM_e0.csv',delimiter=',')\n",
    "log_e0 = np.loadtxt('log_e0.csv',delimiter=',')\n",
    "de_log_e0 = de_log_e0.tolist()\n",
    "log_e0 = log_e0.tolist()"
   ]
  },
  {
   "cell_type": "code",
   "execution_count": 24,
   "id": "7026f613-1f03-4b95-a814-746f578c3e61",
   "metadata": {
    "tags": []
   },
   "outputs": [
    {
     "ename": "NameError",
     "evalue": "name 'de_log_e0' is not defined",
     "output_type": "error",
     "traceback": [
      "\u001b[0;31m---------------------------------------------------------------------------\u001b[0m",
      "\u001b[0;31mNameError\u001b[0m                                 Traceback (most recent call last)",
      "Cell \u001b[0;32mIn [24], line 2\u001b[0m\n\u001b[1;32m      1\u001b[0m \u001b[38;5;66;03m#log_e0\u001b[39;00m\n\u001b[0;32m----> 2\u001b[0m \u001b[38;5;28;01mfor\u001b[39;00m i \u001b[38;5;129;01min\u001b[39;00m \u001b[38;5;28mrange\u001b[39m(\u001b[38;5;28mlen\u001b[39m(\u001b[43mde_log_e0\u001b[49m)):\n\u001b[1;32m      3\u001b[0m     a \u001b[38;5;241m=\u001b[39m []\n\u001b[1;32m      4\u001b[0m     j \u001b[38;5;241m=\u001b[39m \u001b[38;5;241m0\u001b[39m\n",
      "\u001b[0;31mNameError\u001b[0m: name 'de_log_e0' is not defined"
     ]
    }
   ],
   "source": [
    "#log_e0\n",
    "for i in range(len(de_log_e0)):\n",
    "    a = []\n",
    "    j = 0\n",
    "    while j<3000:\n",
    "        b = np.random.normal(log_e0[i],de_log_e0[i])\n",
    "        if -300<b<0:\n",
    "            a.append(10**b)\n",
    "            j = j+1\n",
    "    np.savetxt(\"samples/%s.csv\" % str(i),a,delimiter=\",\")"
   ]
  },
  {
   "cell_type": "code",
   "execution_count": 412,
   "id": "a8efdafb-4d96-4e71-b7fa-d67412ccad4c",
   "metadata": {
    "tags": []
   },
   "outputs": [
    {
     "data": {
      "text/plain": [
       "'for ii in range(i):\\n    for jj in range(j):\\n        if samples_mar[ii,jj]<=0 or samples_mar[ii,jj]>=1:\\n            print(samples_mar[ii,jj])'"
      ]
     },
     "execution_count": 412,
     "metadata": {},
     "output_type": "execute_result"
    }
   ],
   "source": [
    "i = len(de_e0)\n",
    "j = 3000\n",
    "samples_mar = np.zeros(shape = ([i,j]),dtype = float)\n",
    "\n",
    "for ii in range(i):\n",
    "    a = np.loadtxt(\"samples/%s.csv\" % str(ii),delimiter=\",\")\n",
    "    for jj in range(j):\n",
    "        samples_mar[ii,jj] = a[jj]\n",
    "        \n",
    "'''for ii in range(i):\n",
    "    for jj in range(j):\n",
    "        if samples_mar[ii,jj]<=0 or samples_mar[ii,jj]>=1:\n",
    "            print(samples_mar[ii,jj])'''"
   ]
  },
  {
   "cell_type": "code",
   "execution_count": 41,
   "id": "2604d5eb-81a5-4bb1-8f4b-c8accaddc78d",
   "metadata": {},
   "outputs": [
    {
     "data": {
      "text/plain": [
       "<Axes: ylabel='Density'>"
      ]
     },
     "execution_count": 41,
     "metadata": {},
     "output_type": "execute_result"
    },
    {
     "data": {
      "image/png": "[encoded data removed]",
      "text/plain": [
       "<Figure size 640x480 with 1 Axes>"
      ]
     },
     "metadata": {},
     "output_type": "display_data"
    }
   ],
   "source": [
    "a = []\n",
    "for ii in range(i):\n",
    "    a.append(sum(samples_mar[ii,:])/j)\n",
    "sns.kdeplot(a)"
   ]
  },
  {
   "cell_type": "code",
   "execution_count": 5,
   "id": "bb1eadd0-a97f-43c0-8743-764a415e65ec",
   "metadata": {
    "tags": []
   },
   "outputs": [],
   "source": [
    "def redshift_prior(x):\n",
    "    if x<=4.0 and x>=0.0:\n",
    "        return (cosmo.luminosity_distance(x).value)**2\n",
    "    else:\n",
    "        return 1e-300\n",
    "\n",
    "def m1r_prior(x):\n",
    "    if x<=100.0 and x>=1.0:\n",
    "        return 1/99\n",
    "    else:\n",
    "        return 1e-100\n",
    "\n",
    "def m2r_prior(x):\n",
    "    if x<=100.0 and x>=1.0:\n",
    "        return 1/99\n",
    "    else:\n",
    "        return 1e-100\n",
    "\n",
    "def tc_prior(x):\n",
    "    if x<=1e9 and x>=1e7:\n",
    "        return 1/(1e9-1e7)\n",
    "    else:\n",
    "        return 1e-100\n",
    "\n",
    "def theta_s_prior(x):\n",
    "    if x<=np.pi and x>=0:\n",
    "        return 1/np.pi\n",
    "    else:\n",
    "        return 1e-100\n",
    "\n",
    "def phi_s_prior(x):\n",
    "    if x<=2*np.pi and x>=0:\n",
    "        return 1/(2*np.pi)\n",
    "    else:\n",
    "        return 1e-100\n",
    "\n",
    "\n",
    "def theta_l_prior(x):\n",
    "    if x<=np.pi and x>=0:\n",
    "        return 1/np.pi\n",
    "    else:\n",
    "        return 1e-100\n",
    "\n",
    "def phi_l_prior(x):\n",
    "    if x<=2*np.pi and x>=0:\n",
    "        return 1/(2*np.pi)\n",
    "    else:\n",
    "        return 1e-100"
   ]
  },
  {
   "cell_type": "code",
   "execution_count": 413,
   "id": "95a4c11e-e890-4efd-8901-5c9e2cd5c92d",
   "metadata": {
    "tags": []
   },
   "outputs": [],
   "source": [
    "def ecc_prior(x):\n",
    "    if x<=1 and x>0:\n",
    "        return 1\n",
    "    else:\n",
    "        return 1e-300\n",
    "\n",
    "def ecc_model(x,mu,sigma):\n",
    "    if x<=1 and x>0:\n",
    "        return (1/(x*np.log(10)*sigma*np.sqrt(2*np.pi)))*np.exp(-(np.log10(x)- mu)**2/(2*sigma**2))\n",
    "    else:\n",
    "        return 1e-300\n",
    "    \n",
    "def lamda_prior(mu,sigma):\n",
    "    if mu>-10 and mu<0 and sigma>0 and sigma<5:\n",
    "        return 1/50\n",
    "    else:\n",
    "        return 1e-300\n",
    "\n",
    "def log_hyper_post(y):\n",
    "    log_likelihood = []\n",
    "    if y[1]<=0:\n",
    "        return -224502\n",
    "    else:\n",
    "        for ii in range(i):\n",
    "            pilamda_pi = []\n",
    "        \n",
    "            for jj in range(j):\n",
    "                pilamda_pi.append(ecc_model(samples_mar[ii,jj],y[0],y[1])/ecc_prior(samples_mar[ii,jj]))\n",
    "            \n",
    "            log_likelihood.append(np.log(sum(pilamda_pi)/j))\n",
    "        return sum(log_likelihood)+np.log(lamda_prior(y[0],y[1]))"
   ]
  },
  {
   "cell_type": "code",
   "execution_count": 23,
   "id": "9de72064-87eb-432a-97bc-0a3ff59ce402",
   "metadata": {
    "tags": []
   },
   "outputs": [
    {
     "name": "stdout",
     "output_type": "stream",
     "text": [
      "CPU times: user 359 ms, sys: 0 ns, total: 359 ms\n",
      "Wall time: 359 ms\n"
     ]
    },
    {
     "data": {
      "text/plain": [
       "104.0205928207545"
      ]
     },
     "execution_count": 23,
     "metadata": {},
     "output_type": "execute_result"
    }
   ],
   "source": [
    "%%time\n",
    "log_hyper_post([-2.69,0.66])"
   ]
  },
  {
   "cell_type": "code",
   "execution_count": 3,
   "id": "e3153b3e-5755-4517-81c4-a50ef2812290",
   "metadata": {
    "tags": []
   },
   "outputs": [],
   "source": [
    "samples = np.zeros(([200,2]),dtype=float)\n",
    "samples[:,0] = np.linspace(-5,-1,len(samples[:,0]))\n",
    "samples[:,1] = np.linspace(0.2,2.2,len(samples[:,1]))\n",
    "posterior = np.zeros(([len(samples[:,0]),len(samples[:,1])]),dtype=float)\n",
    "def calc_mu_post(x):\n",
    "    post = []\n",
    "    for jj in range(len(samples[:,0])):\n",
    "        post.append(log_hyper_post([samples[x,0],samples[jj,1]]))\n",
    "    return post"
   ]
  },
  {
   "cell_type": "code",
   "execution_count": 415,
   "id": "3c322a73-b9f8-4f5c-b214-f4d1d743a107",
   "metadata": {
    "tags": []
   },
   "outputs": [],
   "source": [
    "if __name__ == '__main__':\n",
    "    p = Pool(10)\n",
    "    P = []\n",
    "    for ii in range(len(samples[:,0])):\n",
    "        P.append(p.apply_async(calc_mu_post,args=(ii,)))\n",
    "    p.close()\n",
    "    p.join()\n",
    "    for ii in range(len(samples[:,0])):\n",
    "        posterior[ii,:] = P[ii].get()\n",
    "np.savetxt('posterior_TQ_LISA_maximum_Cluster.txt',posterior,delimiter=',')"
   ]
  },
  {
   "cell_type": "code",
   "execution_count": 4,
   "id": "16ee82c8-47cb-4ac4-8dd2-cc875806b50e",
   "metadata": {
    "tags": []
   },
   "outputs": [],
   "source": [
    "posterior = np.loadtxt('posterior_TQ_LISA_maximum_Cluster.txt',delimiter=',')"
   ]
  },
  {
   "cell_type": "code",
   "execution_count": 7,
   "id": "9c19108c-0ed3-4a0b-807f-9440953081f1",
   "metadata": {
    "tags": []
   },
   "outputs": [
    {
     "data": {
      "text/plain": [
       "9.948723227870856"
      ]
     },
     "execution_count": 7,
     "metadata": {},
     "output_type": "execute_result"
    }
   ],
   "source": [
    "posterior.max()"
   ]
  },
  {
   "cell_type": "code",
   "execution_count": 6,
   "id": "6300433a-d108-4f7f-b989-ef1d1f70ccfd",
   "metadata": {},
   "outputs": [],
   "source": [
    "posterior = posterior-1200"
   ]
  },
  {
   "cell_type": "code",
   "execution_count": 6,
   "id": "6b7f344c-ed12-496a-8b9c-0f6e19e4d126",
   "metadata": {
    "tags": []
   },
   "outputs": [],
   "source": [
    "for ii in range(len(samples[:,0])):\n",
    "    for jj in range(len(samples[:,1])):\n",
    "        posterior[ii,jj] = np.e**(posterior[ii,jj])\n",
    "\n",
    "n = (samples[1,0]-samples[0,0])*(samples[1,1]-samples[0,1])\n",
    "area = 0\n",
    "for ii in range(len(samples[:,0])):\n",
    "    for jj in range(len(samples[:,1])):\n",
    "        area = area+n*posterior[ii,jj]\n",
    "posterior = posterior/area\n",
    "\n",
    "mu = []\n",
    "for ii in range(len(samples[:,0])):\n",
    "    mu.append(sum(posterior[ii,:]*(samples[1,1]-samples[0,1])))\n",
    "sigma = []\n",
    "for jj in range(len(samples[:,1])):\n",
    "    sigma.append(sum(posterior[:,jj]*(samples[1,0]-samples[0,0])))\n",
    "posterior = posterior.T"
   ]
  },
  {
   "cell_type": "code",
   "execution_count": 8,
   "id": "dcd9cef7-7e69-4117-bc3f-a7da7f16e674",
   "metadata": {
    "tags": []
   },
   "outputs": [
    {
     "name": "stdout",
     "output_type": "stream",
     "text": [
      "38155\n",
      "39390\n"
     ]
    }
   ],
   "source": [
    "credible_interval = [0.954,0.682]\n",
    "credible_posterior = []\n",
    "\n",
    "posterior_rank = posterior.reshape(len(samples[:,0])*len(samples[:,1]),1)\n",
    "posterior_rank = posterior_rank.tolist()\n",
    "posterior_rank.sort()\n",
    "\n",
    "n = (samples[1,0]-samples[0,0])*(samples[1,1]-samples[0,1])\n",
    "for cii in credible_interval:\n",
    "    area = 0\n",
    "    for ii in range(len(posterior_rank)):\n",
    "        area = area+n*posterior_rank[ii][0]\n",
    "        if area>=1-cii:\n",
    "            credible_posterior.append(posterior_rank[ii][0])\n",
    "            print(ii)\n",
    "            break"
   ]
  },
  {
   "cell_type": "code",
   "execution_count": 15,
   "id": "fa180a18-35eb-49f7-a5f2-864742912055",
   "metadata": {
    "tags": []
   },
   "outputs": [
    {
     "data": {
      "text/plain": [
       "(array([80]), array([102]))"
      ]
     },
     "execution_count": 15,
     "metadata": {},
     "output_type": "execute_result"
    }
   ],
   "source": [
    "np.where(posterior==credible_posterior[0])"
   ]
  },
  {
   "cell_type": "code",
   "execution_count": null,
   "id": "1151d04c-5c38-483e-8b07-26408c1f742c",
   "metadata": {},
   "outputs": [],
   "source": []
  },
  {
   "cell_type": "code",
   "execution_count": 38,
   "id": "ff1a1718-6aa0-48ab-a89a-41304565e74b",
   "metadata": {
    "tags": []
   },
   "outputs": [],
   "source": [
    "#draw PDF\n",
    "def norm(x,mu,sigma):\n",
    "    return (1/(sigma*np.sqrt(2*np.pi)))*np.exp(-(x-mu)**2/(2*sigma**2))\n",
    "\n",
    "x_plot = np.linspace(-7,0,1000)\n",
    "plot_point = np.zeros([1,len(x_plot)],dtype=float)\n",
    "\n",
    "def calc_plot_point(x):\n",
    "    point = np.zeros([1,len(x_plot)],dtype=float)\n",
    "    for jj in range(len(samples[:,1])):\n",
    "        y = np.fromiter((norm(i,samples[x,0],samples[jj,1]) for i in x_plot),np.float64)\n",
    "        point = np.r_[point,[y]]\n",
    "    point = np.delete(point,0,axis=0)\n",
    "    return point\n",
    "\n",
    "if __name__ == '__main__':\n",
    "    p = Pool(8)\n",
    "    for ii in range(len(samples[:,0])):\n",
    "        P = p.apply_async(calc_plot_point,args=(ii,))\n",
    "        plot_point = np.r_[plot_point,P.get()]\n",
    "    p.close()\n",
    "    p.join()\n",
    "plot_point = np.delete(plot_point,0,axis=0)"
   ]
  },
  {
   "cell_type": "code",
   "execution_count": 39,
   "id": "c74c6310-a6a3-48ff-80e9-99ed3ef40d95",
   "metadata": {
    "tags": []
   },
   "outputs": [],
   "source": [
    "kk = 0\n",
    "plot_point_weight = np.zeros([len(samples[:,0])*len(samples[:,1]),len(x_plot)])\n",
    "for ii in range(len(samples[:,0])):\n",
    "    for jj in range(len(samples[:,1])):\n",
    "        plot_point_weight[kk,:] = posterior[jj,ii]*plot_point[kk,:]*n\n",
    "        kk = kk+1\n",
    "\n",
    "y_all = []\n",
    "for ii in range(len(x_plot)):\n",
    "    y_all.append(sum(plot_point_weight[:,ii]))"
   ]
  },
  {
   "cell_type": "code",
   "execution_count": 42,
   "id": "1174d7cf-cbf5-4c63-a996-cc46e1f2e331",
   "metadata": {},
   "outputs": [],
   "source": [
    "kk = 0\n",
    "plot_point_posterior = np.zeros([len(samples[:,0])*len(samples[:,1]),len(x_plot),2])\n",
    "for ii in range(len(samples[:,0])):\n",
    "    for jj in range(len(samples[:,1])):\n",
    "        for ll in range(len(plot_point[kk,:])):\n",
    "            plot_point_posterior[kk,ll] = np.array([plot_point[kk,ll],posterior[jj,ii]]) \n",
    "        kk = kk+1 "
   ]
  },
  {
   "cell_type": "code",
   "execution_count": 66,
   "id": "87ebc08d-76be-47b1-8093-3a6887b51604",
   "metadata": {},
   "outputs": [],
   "source": [
    "for ii in range(len(plot_point_posterior[0,:,0])):\n",
    "    index = np.lexsort((plot_point_posterior[:,ii,1],plot_point_posterior[:,ii,0]))\n",
    "    plot_point_posterior[:,ii,:] = plot_point_posterior[index,ii,:]"
   ]
  },
  {
   "cell_type": "code",
   "execution_count": 69,
   "id": "87d2bfde-bed2-4c1a-896f-458fdebac4ed",
   "metadata": {},
   "outputs": [],
   "source": [
    "y_up = []\n",
    "y_down = []\n",
    "for ii in range(len(plot_point_posterior[0,:,0])):\n",
    "    probability = 0\n",
    "    indicate = 1\n",
    "    for jj in range(len(plot_point_posterior[:,0,0])):\n",
    "        probability = probability+plot_point_posterior[jj,ii,1]*n\n",
    "        if indicate:\n",
    "            if probability >=0.05:\n",
    "                y_down.append(plot_point_posterior[jj,ii,0])\n",
    "                indicate = 0\n",
    "        if probability >=0.95:\n",
    "            y_up.append(plot_point_posterior[jj,ii,0])\n",
    "            break"
   ]
  },
  {
   "cell_type": "code",
   "execution_count": 13,
   "id": "a15a58e0-a980-4743-8e9e-a0f860d83193",
   "metadata": {
    "tags": []
   },
   "outputs": [],
   "source": [
    "for ii in range(len(plot_point[0,:])):\n",
    "    plot_point[:,ii].sort()\n",
    "    \n",
    "y_up_1 = []\n",
    "y_down_1 = []\n",
    "for ii in range(len(plot_point[0,:])):\n",
    "    y_up_1.append(plot_point[int(0.95*len(plot_point[:,0])),ii])\n",
    "    y_down_1.append(plot_point[int(0.05*len(plot_point[:,0])),ii])"
   ]
  },
  {
   "cell_type": "code",
   "execution_count": 77,
   "id": "74d59822-2738-419c-a148-49a4b58fe32f",
   "metadata": {
    "tags": []
   },
   "outputs": [
    {
     "data": {
      "image/png": "[encoded data removed]",
      "text/plain": [
       "<Figure size 640x480 with 1 Axes>"
      ]
     },
     "metadata": {},
     "output_type": "display_data"
    }
   ],
   "source": [
    "y_test = np.fromiter((norm(i,-2.775,0.699) for i in x_plot),np.float64)\n",
    "\n",
    "plt.plot(x_plot,y_test,label='True')\n",
    "plt.plot(x_plot,y_all,label='Result')\n",
    "#plt.plot(x_plot,y_up,color='grey')\n",
    "#plt.plot(x_plot,y_down,color='grey')\n",
    "plt.fill_between(x_plot,y_down,y_up,alpha=0.2)\n",
    "plt.xlabel('$\\mathrm{log}e$')\n",
    "plt.ylabel('Probability Density')\n",
    "plt.ylim(0,0.8)\n",
    "plt.legend()\n",
    "plt.savefig('PDF.png')"
   ]
  },
  {
   "cell_type": "code",
   "execution_count": 78,
   "id": "1872ad94-6558-4494-97ec-1794ac43402d",
   "metadata": {
    "tags": []
   },
   "outputs": [
    {
     "data": {
      "image/png": "[encoded data removed]",
      "text/plain": [
       "<Figure size 640x480 with 1 Axes>"
      ]
     },
     "metadata": {},
     "output_type": "display_data"
    }
   ],
   "source": [
    "n_mu = samples[1,0]-samples[0,0]\n",
    "area_mu = 0\n",
    "for ii in range(len(samples[:,0])):\n",
    "    area_mu = 0\n",
    "    for iii in range(ii):\n",
    "        area_mu = area_mu+n_mu*mu[iii]\n",
    "    if area_mu>=0.16:\n",
    "        quan_mu_016 = ii\n",
    "        break\n",
    "\n",
    "for ii in range(len(samples[:,0])):\n",
    "    area_mu = 0\n",
    "    for iii in range(ii):\n",
    "        area_mu = area_mu+n_mu*mu[iii]\n",
    "    if area_mu>=0.5:\n",
    "        quan_mu_05 = ii\n",
    "        break\n",
    "        \n",
    "for ii in range(len(samples[:,0])):\n",
    "    area_mu = 0\n",
    "    for iii in range(ii):\n",
    "        area_mu = area_mu+n_mu*mu[iii]\n",
    "    if area_mu>=0.84:\n",
    "        quan_mu_084 = ii\n",
    "        break\n",
    "        \n",
    "plt.plot(samples[:,0],mu,c='black')\n",
    "plt.axvline(samples[quan_mu_016,0],linestyle='--',c='grey')\n",
    "plt.axvline(samples[quan_mu_05,0],linestyle='--',c='grey')\n",
    "plt.axvline(samples[quan_mu_084,0],linestyle='--',c='grey')\n",
    "plt.axvline(-2.775,c='royalblue')\n",
    "plt.xlim(-3.3,-2)\n",
    "plt.ylim(0,3)\n",
    "plt.xlabel('$\\mu$')\n",
    "plt.ylabel('$p(\\mu)$')\n",
    "plt.savefig('2.png')"
   ]
  },
  {
   "cell_type": "code",
   "execution_count": 423,
   "id": "ca28c92e-b651-4dc4-813c-39e980484aaa",
   "metadata": {
    "tags": []
   },
   "outputs": [
    {
     "data": {
      "text/plain": [
       "(-2.829145728643216, -2.688442211055276, -2.527638190954774)"
      ]
     },
     "execution_count": 423,
     "metadata": {},
     "output_type": "execute_result"
    }
   ],
   "source": [
    "samples[quan_mu_016,0],samples[quan_mu_05,0],samples[quan_mu_084,0]"
   ]
  },
  {
   "cell_type": "code",
   "execution_count": 79,
   "id": "28c00880-631e-4019-be4a-8616bdd845e5",
   "metadata": {
    "tags": []
   },
   "outputs": [
    {
     "data": {
      "image/png": "[encoded data removed]",
      "text/plain": [
       "<Figure size 640x480 with 1 Axes>"
      ]
     },
     "metadata": {},
     "output_type": "display_data"
    }
   ],
   "source": [
    "n_sigma = samples[1,1]-samples[0,1]\n",
    "area_sigma = 0\n",
    "for jj in range(len(samples[:,0])):\n",
    "    area_sigma = 0\n",
    "    for jjj in range(jj):\n",
    "        area_sigma = area_sigma+n_sigma*sigma[jjj]\n",
    "    if area_sigma>=0.16:\n",
    "        quan_sigma_016 = jj\n",
    "        break\n",
    "        \n",
    "for jj in range(len(samples[:,0])):\n",
    "    area_sigma = 0\n",
    "    for jjj in range(jj):\n",
    "        area_sigma = area_sigma+n_sigma*sigma[jjj]\n",
    "    if area_sigma>=0.5:\n",
    "        quan_sigma_05 = jj\n",
    "        break\n",
    "        \n",
    "for jj in range(len(samples[:,0])):\n",
    "    area_sigma = 0\n",
    "    for jjj in range(jj):\n",
    "        area_sigma = area_sigma+n_sigma*sigma[jjj]\n",
    "    if area_sigma>=0.84:\n",
    "        quan_sigma_084 = jj\n",
    "        break\n",
    "\n",
    "plt.plot(samples[:,1],sigma,c='black')\n",
    "plt.xlim(0.3,1.4)\n",
    "plt.ylim(0,3.5)\n",
    "plt.axvline(samples[quan_sigma_016,1],linestyle='--',c='grey')\n",
    "plt.axvline(samples[quan_sigma_05,1],linestyle='--',c='grey')\n",
    "plt.axvline(samples[quan_sigma_084,1],linestyle='--',c='grey')\n",
    "plt.axvline(0.699,c='royalblue')\n",
    "plt.xlabel('$\\sigma$')\n",
    "plt.ylabel('$p(\\sigma)$')\n",
    "plt.savefig('3.png')"
   ]
  },
  {
   "cell_type": "code",
   "execution_count": 425,
   "id": "e4c06f99-189b-44fd-bbd2-2b0735f194b9",
   "metadata": {
    "tags": []
   },
   "outputs": [
    {
     "data": {
      "text/plain": [
       "(0.6020100502512563, 0.7025125628140703, 0.8432160804020101)"
      ]
     },
     "execution_count": 425,
     "metadata": {},
     "output_type": "execute_result"
    }
   ],
   "source": [
    "samples[quan_sigma_016,1],samples[quan_sigma_05,1],samples[quan_sigma_084,1]"
   ]
  },
  {
   "cell_type": "code",
   "execution_count": 41,
   "id": "281dd0f0-361b-45e7-b08d-e8cf981a4daf",
   "metadata": {
    "tags": []
   },
   "outputs": [
    {
     "data": {
      "text/plain": [
       "0.6821197320423862"
      ]
     },
     "execution_count": 41,
     "metadata": {},
     "output_type": "execute_result"
    }
   ],
   "source": [
    "area = 0\n",
    "for ii in range(38277):\n",
    "    area = area+n*posterior_rank[ii][0]\n",
    "1-area"
   ]
  },
  {
   "cell_type": "code",
   "execution_count": 9,
   "id": "0e461246-5410-46c2-9f89-ecb88c42d849",
   "metadata": {
    "tags": []
   },
   "outputs": [
    {
     "data": {
      "image/png": "[encoded data removed]",
      "text/plain": [
       "<Figure size 640x480 with 1 Axes>"
      ]
     },
     "metadata": {},
     "output_type": "display_data"
    }
   ],
   "source": [
    "fig,ax = plt.subplots()\n",
    "levels = np.arange(posterior.min(),posterior.max()+1e-2,1e-2)\n",
    "#c = plt.contourf(samples[:,0],samples[:,1],posterior,levels,cmap='Blues')\n",
    "#plt.contour(samples[:,0],samples[:,1],posterior,levels=[0.099*posterior.max()],colors=['grey'])\n",
    "plt.contour(samples[:,0],samples[:,1],posterior,levels=credible_posterior,colors=['red','blue'])\n",
    "\n",
    "#plt.axvline(-2.775,c='royalblue',lw=1,label='Cluster')\n",
    "#plt.axhline(0.699,c='royalblue',lw=1)\n",
    "plt.scatter(-2.775,0.699,marker='^',c='black',s=40,label='Cluster')\n",
    "\n",
    "#plt.axvline(-3.124,c='red',lw=1,label='Field')\n",
    "#plt.axhline(0.658,c='red',lw=1)\n",
    "plt.scatter(-3.124,0.658,marker='o',c='black',s=40,label='Field')\n",
    "\n",
    "plt.legend()\n",
    "\n",
    "#cbar = fig.colorbar(c)\n",
    "#cbar.ax.set_title('probability density')\n",
    "#tick_locator = ticker.MaxNLocator(nbins=11)\n",
    "#cbar.locator = tick_locator\n",
    "#plt.clabel(c,colors='blue')\n",
    "ax.set_ylabel('$\\sigma$')\n",
    "ax.set_xlabel('$\\mu$')\n",
    "ax.set_aspect(1)\n",
    "plt.ylim(0.25,2)\n",
    "plt.xlim(-4,-1)\n",
    "#plt.figure(dpi=500)\n",
    "plt.savefig('4.png')\n",
    "#c = plt.contour(samples[:,0],samples[:,1],posterior,[1e-1],colors='black',linewidths=0.5)"
   ]
  },
  {
   "cell_type": "code",
   "execution_count": 10,
   "id": "4b182820-e928-4c7d-96cd-f294c6496788",
   "metadata": {
    "tags": []
   },
   "outputs": [
    {
     "data": {
      "text/plain": [
       "86.97014328754497"
      ]
     },
     "execution_count": 10,
     "metadata": {},
     "output_type": "execute_result"
    }
   ],
   "source": [
    "mu_cluster_index = np.abs(samples[:,0]+2.775)\n",
    "mu_cluster_index = mu_cluster_index.argmin()\n",
    "\n",
    "sigma_cluster_index = np.abs(samples[:,1]-0.699)\n",
    "sigma_cluster_index = sigma_cluster_index.argmin()\n",
    "\n",
    "mu_field_index = np.abs(samples[:,0]+3.124)\n",
    "mu_field_index = mu_field_index.argmin()\n",
    "\n",
    "sigma_field_index = np.abs(samples[:,1]-0.658)\n",
    "sigma_field_index = sigma_field_index.argmin()\n",
    "\n",
    "bayes_factor = posterior[sigma_cluster_index,mu_cluster_index]/posterior[sigma_field_index,mu_field_index]\n",
    "bayes_factor"
   ]
  },
  {
   "cell_type": "code",
   "execution_count": 39,
   "id": "6bdb2d97-ddd1-4df3-b5d2-545d9f08ec22",
   "metadata": {
    "tags": []
   },
   "outputs": [],
   "source": [
    "def lognorm(x,mu,sigma):\n",
    "    return (1/(x*np.log(10)*np.sqrt(2*np.pi)*sigma))*np.exp(-(np.log10(x)-mu)**2/(2*sigma**2))"
   ]
  },
  {
   "cell_type": "code",
   "execution_count": 40,
   "id": "c28dc3af-6c8d-431a-ae6c-6b9c705df9be",
   "metadata": {
    "tags": []
   },
   "outputs": [],
   "source": [
    "def lognorm_CDF(x,mu,sigma):\n",
    "    CDF = integrate.quad(lognorm,0,x,(mu,sigma))\n",
    "    return CDF[0]"
   ]
  },
  {
   "cell_type": "code",
   "execution_count": 41,
   "id": "250f490f-5dc5-48e3-ba9a-48d04f10816f",
   "metadata": {
    "tags": []
   },
   "outputs": [
    {
     "data": {
      "text/plain": [
       "(array([50]), array([132]))"
      ]
     },
     "execution_count": 41,
     "metadata": {},
     "output_type": "execute_result"
    }
   ],
   "source": [
    "np.where(posterior==posterior.max())"
   ]
  },
  {
   "cell_type": "code",
   "execution_count": 42,
   "id": "8e4e5fbe-7f57-40d4-bff5-41c6ec95c264",
   "metadata": {
    "tags": []
   },
   "outputs": [],
   "source": [
    "x = np.arange(1e-5,1e-1,1e-5)\n",
    "y = np.fromiter((lognorm_CDF(i,-2.77,0.69) for i in x),np.float64)"
   ]
  },
  {
   "cell_type": "code",
   "execution_count": 43,
   "id": "8b8512e9-a7fd-43a5-994f-015dd41ba931",
   "metadata": {
    "tags": []
   },
   "outputs": [],
   "source": [
    "x_max = np.arange(1e-5,1e-1,1e-5)\n",
    "y_max = np.fromiter((lognorm_CDF(i,samples[132,0],samples[50,1]) for i in x_max),np.float64)"
   ]
  },
  {
   "cell_type": "code",
   "execution_count": 44,
   "id": "062dc95d-8a27-483e-9dbc-c991b0688b3f",
   "metadata": {
    "tags": []
   },
   "outputs": [],
   "source": [
    "e0 = []\n",
    "for i in log_e0:\n",
    "    e0.append(10**i)\n",
    "e0.sort()\n",
    "y_ecc = np.linspace(0,1,len(e0))"
   ]
  },
  {
   "cell_type": "code",
   "execution_count": 45,
   "id": "83d155d1-3d39-4166-ac35-c70ccdf60f8a",
   "metadata": {
    "tags": []
   },
   "outputs": [
    {
     "data": {
      "text/plain": [
       "<matplotlib.legend.Legend at 0x7fbeea8c20b0>"
      ]
     },
     "execution_count": 45,
     "metadata": {},
     "output_type": "execute_result"
    },
    {
     "data": {
      "image/png": "[encoded data removed]",
      "text/plain": [
       "<Figure size 640x480 with 1 Axes>"
      ]
     },
     "metadata": {},
     "output_type": "display_data"
    }
   ],
   "source": [
    "plt.plot(x,y,label='true value')\n",
    "plt.plot(x_max,y_max,label='max likelihood')\n",
    "plt.step(e0,y_ecc)\n",
    "plt.xscale('log')\n",
    "plt.legend()"
   ]
  },
  {
   "cell_type": "code",
   "execution_count": 46,
   "id": "fb0c71e0-798a-49dd-a296-70b6c8e37d4a",
   "metadata": {
    "tags": []
   },
   "outputs": [
    {
     "data": {
      "text/plain": [
       "KstestResult(statistic=0.12366169315963638, pvalue=0.8314923017808306)"
      ]
     },
     "execution_count": 46,
     "metadata": {},
     "output_type": "execute_result"
    }
   ],
   "source": [
    "kstest(log_e0,'norm',args=(-2.77,0.699))"
   ]
  },
  {
   "cell_type": "code",
   "execution_count": 47,
   "id": "bc9f6552-7790-4ba4-93ae-fa25b2455698",
   "metadata": {
    "tags": []
   },
   "outputs": [
    {
     "data": {
      "text/plain": [
       "KstestResult(statistic=0.1718484807036198, pvalue=0.45517823097381527)"
      ]
     },
     "execution_count": 47,
     "metadata": {},
     "output_type": "execute_result"
    }
   ],
   "source": [
    "kstest(log_e0,'norm',args=(samples[132,0],samples[50,1]))"
   ]
  },
  {
   "cell_type": "code",
   "execution_count": null,
   "id": "f486c2a3-0e3a-4e39-8467-71f54fc86ab7",
   "metadata": {},
   "outputs": [],
   "source": [
    "%%time\n",
    "ndim = 2\n",
    "nwalker = 4\n",
    "p0_mu = -10*np.random.rand(nwalker,1)\n",
    "p0_sigma = 5*np.random.rand(nwalker,1)\n",
    "p0 = np.zeros((nwalker,ndim),dtype=float)\n",
    "p0[:,0] = p0_mu[:,0]\n",
    "p0[:,1] = p0_sigma[:,0]\n",
    "\n",
    "with Pool() as pool:\n",
    "    sampler = emcee.EnsembleSampler(nwalker,ndim,log_hyper_post,args=[],pool=pool)\n",
    "    sampler.run_mcmc(p0,100,progress=True)"
   ]
  },
  {
   "cell_type": "code",
   "execution_count": 12,
   "id": "83251bc4-4c82-4b4a-82ea-e6aa0f7607c9",
   "metadata": {
    "tags": []
   },
   "outputs": [
    {
     "data": {
      "image/png": "[encoded data removed]",
      "text/plain": [
       "<Figure size 550x550 with 4 Axes>"
      ]
     },
     "metadata": {},
     "output_type": "display_data"
    }
   ],
   "source": [
    "a = np.loadtxt(\"mu.csv\",delimiter=\",\")\n",
    "b = np.loadtxt(\"sigma.csv\",delimiter=\",\")\n",
    "sample = np.zeros(shape=([len(a),2]),dtype=float)\n",
    "sample[:,0] = a\n",
    "sample[:,1] = b\n",
    "figure = corner.corner(\n",
    "            sample,\n",
    "            quantiles=[0.16, 0.5, 0.84],\n",
    "            labels=[\n",
    "                r\"$\\mu$\",\n",
    "                r\"$\\sigma$\",\n",
    "            ],\n",
    "            show_titles=True,\n",
    "            bins=40,\n",
    "            range=[(-3.2,-2.4),(0.4,1.)],\n",
    "            color=\"steelblue\")"
   ]
  }
 ],
 "metadata": {
  "kernelspec": {
   "display_name": "Python 3 (ipykernel)",
   "language": "python",
   "name": "python3"
  },
  "language_info": {
   "codemirror_mode": {
    "name": "ipython",
    "version": 3
   },
   "file_extension": ".py",
   "mimetype": "text/x-python",
   "name": "python",
   "nbconvert_exporter": "python",
   "pygments_lexer": "ipython3",
   "version": "3.10.6"
  }
 },
 "nbformat": 4,
 "nbformat_minor": 5
}
